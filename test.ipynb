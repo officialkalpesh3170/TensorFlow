{
 "cells": [
  {
   "cell_type": "code",
   "execution_count": 2,
   "id": "fa0f846a",
   "metadata": {},
   "outputs": [
    {
     "name": "stdout",
     "output_type": "stream",
     "text": [
      "kalpesh\n"
     ]
    }
   ],
   "source": [
    "!whoami\n"
   ]
  },
  {
   "cell_type": "code",
   "execution_count": 2,
   "id": "c02652c2",
   "metadata": {},
   "outputs": [
    {
     "name": "stdout",
     "output_type": "stream",
     "text": [
      "Sat Aug 16 10:45:39 2025       \n",
      "+-----------------------------------------------------------------------------------------+\n",
      "| NVIDIA-SMI 575.64.03              Driver Version: 575.64.03      CUDA Version: 12.9     |\n",
      "|-----------------------------------------+------------------------+----------------------+\n",
      "| GPU  Name                 Persistence-M | Bus-Id          Disp.A | Volatile Uncorr. ECC |\n",
      "| Fan  Temp   Perf          Pwr:Usage/Cap |           Memory-Usage | GPU-Util  Compute M. |\n",
      "|                                         |                        |               MIG M. |\n",
      "|=========================================+========================+======================|\n",
      "|   0  NVIDIA GeForce RTX 3060 ...    Off |   00000000:01:00.0 Off |                  N/A |\n",
      "| N/A   47C    P3             19W /   80W |     396MiB /   6144MiB |     33%      Default |\n",
      "|                                         |                        |                  N/A |\n",
      "+-----------------------------------------+------------------------+----------------------+\n",
      "                                                                                         \n",
      "+-----------------------------------------------------------------------------------------+\n",
      "| Processes:                                                                              |\n",
      "|  GPU   GI   CI              PID   Type   Process name                        GPU Memory |\n",
      "|        ID   ID                                                               Usage      |\n",
      "|=========================================================================================|\n",
      "|    0   N/A  N/A            3298      G   /usr/lib/xorg/Xorg                      159MiB |\n",
      "|    0   N/A  N/A            3664      G   /usr/bin/gnome-shell                     62MiB |\n",
      "|    0   N/A  N/A            4675      G   ...e05276a115995f7d0df3c2e83b5b1         82MiB |\n",
      "|    0   N/A  N/A            7068      G   /proc/self/exe                           51MiB |\n",
      "+-----------------------------------------------------------------------------------------+\n"
     ]
    }
   ],
   "source": [
    "!nvidia-smi"
   ]
  },
  {
   "cell_type": "code",
   "execution_count": 1,
   "id": "5522147d",
   "metadata": {},
   "outputs": [
    {
     "name": "stderr",
     "output_type": "stream",
     "text": [
      "2025-08-16 10:45:34.810608: I tensorflow/core/util/port.cc:153] oneDNN custom operations are on. You may see slightly different numerical results due to floating-point round-off errors from different computation orders. To turn them off, set the environment variable `TF_ENABLE_ONEDNN_OPTS=0`.\n",
      "2025-08-16 10:45:34.908160: I tensorflow/core/platform/cpu_feature_guard.cc:210] This TensorFlow binary is optimized to use available CPU instructions in performance-critical operations.\n",
      "To enable the following instructions: AVX2 AVX_VNNI FMA, in other operations, rebuild TensorFlow with the appropriate compiler flags.\n",
      "2025-08-16 10:45:37.498131: I tensorflow/core/util/port.cc:153] oneDNN custom operations are on. You may see slightly different numerical results due to floating-point round-off errors from different computation orders. To turn them off, set the environment variable `TF_ENABLE_ONEDNN_OPTS=0`.\n"
     ]
    },
    {
     "name": "stdout",
     "output_type": "stream",
     "text": [
      "GPU found: PhysicalDevice(name='/physical_device:GPU:0', device_type='GPU')\n"
     ]
    }
   ],
   "source": [
    "import tensorflow as tf\n",
    "\n",
    "gpus =tf.config.list_physical_devices(\"GPU\")\n",
    "if gpus:\n",
    "    for gpu in gpus:\n",
    "        print(\"GPU found:\", gpu)\n",
    "else:\n",
    "    print(\"No GPU found.\")\n",
    "    \n",
    " "
   ]
  },
  {
   "cell_type": "code",
   "execution_count": 3,
   "id": "7d1ef02e",
   "metadata": {},
   "outputs": [
    {
     "name": "stdout",
     "output_type": "stream",
     "text": [
      "This is a test file to check GPU availability in TensorFlow.\n"
     ]
    }
   ],
   "source": [
    "print(\"This is a test file to check GPU availability in TensorFlow.\")"
   ]
  },
  {
   "cell_type": "code",
   "execution_count": 4,
   "id": "92a72b6f",
   "metadata": {},
   "outputs": [
    {
     "name": "stdout",
     "output_type": "stream",
     "text": [
      "install: missing destination file operand after 'matplotlib'\n",
      "Try 'install --help' for more information.\n"
     ]
    }
   ],
   "source": [
    "!install matplotlib"
   ]
  },
  {
   "cell_type": "code",
   "execution_count": 23,
   "id": "7636834c",
   "metadata": {},
   "outputs": [],
   "source": [
    "\n",
    "#thiss is class\n",
    "class Car:\n",
    "    total_cars = 0\n",
    "\n",
    "    \n",
    "    def __init__(self ,brand,name):\n",
    "        self.brand = brand\n",
    "        self.name = name\n",
    "        Car.total_cars+=1;\n",
    "    def get_brand(self):\n",
    "        return self.__brand    \n",
    "\n",
    "    def full_name(self):\n",
    "        return f\"{self.brand} {self.name}\"\n",
    "    \n",
    "class ElectricCar(Car):\n",
    "    def __init__(self,brand,name,battery_size):\n",
    "        super().__init__(brand,name)\n",
    "        self.battery_size=battery_size\n",
    "    def full_name(self):\n",
    "        return f\"{self.name} {self.brand} with battery size {self.battery_size}kwh\"\n",
    "\n",
    "    def fuel_type(self):\n",
    "        return \"ElectricCar\"\n",
    "\n",
    "\n",
    "\n",
    "\n",
    "\n",
    "\n",
    "\n"
   ]
  },
  {
   "cell_type": "code",
   "execution_count": 24,
   "id": "3e27cc9e",
   "metadata": {},
   "outputs": [
    {
     "name": "stdout",
     "output_type": "stream",
     "text": [
      "2\n",
      "B6e Mahindra with battery size 300kwh\n"
     ]
    }
   ],
   "source": [
    "car1= Car(\"Toyota\" ,\"Corrola\")\n",
    "car2 =ElectricCar(\"Mahindra\",\"B6e\",300)\n",
    "print(Car.total_cars)\n",
    "print(car2.full_name())"
   ]
  },
  {
   "cell_type": "code",
   "execution_count": null,
   "id": "94265855",
   "metadata": {},
   "outputs": [],
   "source": []
  },
  {
   "cell_type": "code",
   "execution_count": null,
   "id": "88cf665a",
   "metadata": {},
   "outputs": [],
   "source": []
  }
 ],
 "metadata": {
  "kernelspec": {
   "display_name": "tf_gpu",
   "language": "python",
   "name": "python3"
  },
  "language_info": {
   "codemirror_mode": {
    "name": "ipython",
    "version": 3
   },
   "file_extension": ".py",
   "mimetype": "text/x-python",
   "name": "python",
   "nbconvert_exporter": "python",
   "pygments_lexer": "ipython3",
   "version": "3.9.23"
  }
 },
 "nbformat": 4,
 "nbformat_minor": 5
}
